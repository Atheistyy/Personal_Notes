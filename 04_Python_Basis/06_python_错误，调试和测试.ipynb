{
  "nbformat": 4,
  "nbformat_minor": 0,
  "metadata": {
    "colab": {
      "name": "python_错误，调试和测试.ipynb",
      "provenance": [],
      "collapsed_sections": []
    },
    "kernelspec": {
      "name": "python3",
      "display_name": "Python 3"
    },
    "language_info": {
      "name": "python"
    }
  },
  "cells": [
    {
      "cell_type": "markdown",
      "source": [
        "前言:\n",
        "\n",
        "在程序运行过程中，总会遇到各种各样的错误。\n",
        "\n",
        "有的错误是程序编写有问题造成的，比如本来应该输出整数结果输出了字符串，这种错误我们通常称之为bug，bug是必须修复的。\n",
        "\n",
        "有的错误是用户输入造成的，比如让用户输入email地址，结果得到一个空字符串，这种错误可以通过检查用户输入来做相应的处理。\n",
        "\n",
        "还有一类错误是完全无法在程序运行过程中预测的，比如写入文件的时候，磁盘满了，写不进去了，或者从网络抓取数据，网络突然断掉了。这类错误也称为异常，在程序中通常是必须处理的，否则，程序会因为各种问题终止并退出。\n",
        "\n",
        "Python内置了一套异常处理机制，来帮助我们进行错误处理。\n",
        "\n",
        "此外，我们也需要跟踪程序的执行，查看变量的值是否正确，这个过程称为调试。Python的pdb可以让我们以单步方式执行代码。\n",
        "\n",
        "最后，编写测试也很重要。有了良好的测试，就可以在程序修改后反复运行，确保程序输出符合我们编写的测试。\n"
      ],
      "metadata": {
        "id": "ydiIx72UchyR"
      }
    },
    {
      "cell_type": "markdown",
      "source": [
        "**1. 错误处理**\n",
        "\n",
        "高级语言通常都内置了一套try...except...finally...的错误处理机制，Python也不例外。"
      ],
      "metadata": {
        "id": "Iegmt_QjcstN"
      }
    },
    {
      "cell_type": "markdown",
      "source": [
        "**# Try**"
      ],
      "metadata": {
        "id": "J4qnoeKjyOV7"
      }
    },
    {
      "cell_type": "code",
      "source": [
        "# 机制示例:\n",
        "try:\n",
        "    print('try...')\n",
        "    r = 10 / 0\n",
        "    print('result:', r)\n",
        "except ZeroDivisionError as e:\n",
        "    print('except:', e)\n",
        "finally:\n",
        "    print('finally...')\n",
        "print('END')\n",
        "\n",
        "# 当我们认为某些代码可能会出错时，就可以用try来运行这段代码\n",
        "# 如果执行出错，则后续代码不会继续执行，而是直接跳转至错误处理代码，即except语句块\n",
        "# 执行完except后，如果有finally语句块，则执行finally语句块，至此，执行完毕。\n",
        "# 上面的代码在计算10 / 0时会产生一个除法运算错误："
      ],
      "metadata": {
        "colab": {
          "base_uri": "https://localhost:8080/"
        },
        "id": "d5ImtrReyXap",
        "outputId": "4f980624-c09c-45e3-aecb-c1f388c2f6fb"
      },
      "execution_count": null,
      "outputs": [
        {
          "output_type": "stream",
          "name": "stdout",
          "text": [
            "try...\n",
            "except: division by zero\n",
            "finally...\n",
            "END\n"
          ]
        }
      ]
    },
    {
      "cell_type": "code",
      "source": [
        "# 如果把除数0改成2，则执行结果如下:\n",
        "try:\n",
        "    print('try...')\n",
        "    r = 10 / 2\n",
        "    print('result:', r)\n",
        "except ZeroDivisionError as e:\n",
        "    print('except:', e)\n",
        "finally:\n",
        "    print('finally...')\n",
        "print('END')\n",
        "\n",
        "# 由于没有错误发生，所以except语句块不会被执行\n",
        "# 但是finally如果有，则一定会被执行（可以没有finally语句）。"
      ],
      "metadata": {
        "colab": {
          "base_uri": "https://localhost:8080/"
        },
        "id": "4O91yF2YyscN",
        "outputId": "fb8ef469-1785-4d5f-e091-14db58f40f2a"
      },
      "execution_count": null,
      "outputs": [
        {
          "output_type": "stream",
          "name": "stdout",
          "text": [
            "try...\n",
            "result: 5.0\n",
            "finally...\n",
            "END\n"
          ]
        }
      ]
    },
    {
      "cell_type": "code",
      "source": [
        "# 可以有多个except来捕获不同类型的错误:\n",
        "try:\n",
        "    print('try...')\n",
        "    r = 10 / int('a')\n",
        "    print('result:', r)\n",
        "except ValueError as e:\n",
        "    print('ValueError:', e)\n",
        "except ZeroDivisionError as e:\n",
        "    print('ZeroDivisionError:', e)\n",
        "else:\n",
        "    print('no error!')\n",
        "finally:\n",
        "    print('finally...')\n",
        "print('END')\n",
        "\n",
        "# int()函数可能会抛出ValueError，所以我们用一个except捕获ValueError，用另一个except捕获ZeroDivisionError。\n",
        "# 此外，如果没有错误发生，可以在except语句块后面加一个else，当没有错误发生时，会自动执行else语句。"
      ],
      "metadata": {
        "colab": {
          "base_uri": "https://localhost:8080/"
        },
        "id": "Xi4R756Ly74f",
        "outputId": "924561ed-1814-410a-a28e-ae3e42410fe3"
      },
      "execution_count": null,
      "outputs": [
        {
          "output_type": "stream",
          "name": "stdout",
          "text": [
            "try...\n",
            "ValueError: invalid literal for int() with base 10: 'a'\n",
            "finally...\n",
            "END\n"
          ]
        }
      ]
    },
    {
      "cell_type": "markdown",
      "source": [
        "*   Python的错误其实也是class，所有的错误类型都继承自BaseException，所以在使用except时需要注意的是，它不但捕获该类型的错误，还把其子类也“一网打尽”。\n",
        "  ```\n",
        "    try:\n",
        "       foo()\n",
        "    except ValueError as e:\n",
        "       print('ValueError')\n",
        "    except UnicodeError as e:\n",
        "       print('UnicodeError')\n",
        "  ```\n",
        "*   第二个except永远也捕获不到UnicodeError，因为UnicodeError是ValueError的子类，如果有，也被第一个except给捕获了。\n",
        "\n",
        "*   Python所有的错误都是从BaseException类派生的，常见的错误类型和继承关系看这里：\n",
        "\n",
        "    https://docs.python.org/3/library/exceptions.html#exception-hierarchy"
      ],
      "metadata": {
        "id": "OS6Nr4aKzoMc"
      }
    },
    {
      "cell_type": "markdown",
      "source": [
        "\n",
        "\n",
        "*   使用try...except捕获错误还有一个巨大的好处，就是可以**跨越多层调用**，比如函数main()调用bar()，bar()调用foo()，结果foo()出错了，这时，只要main()捕获到了，就可以处理："
      ],
      "metadata": {
        "id": "xqUM_LEj0D8v"
      }
    },
    {
      "cell_type": "code",
      "source": [
        "def foo(s):\n",
        "    return 10 / int(s)\n",
        "\n",
        "def bar(s):\n",
        "    return foo(s) * 2\n",
        "\n",
        "def main():\n",
        "    try:\n",
        "        bar('0')\n",
        "    except Exception as e:\n",
        "        print('Error:', e)\n",
        "    finally:\n",
        "        print('finally...')\n",
        "# 也就是说，不需要在每个可能出错的地方去捕获错误，只要在合适的层次去捕获错误就可以了。\n",
        "# 这样一来，就大大减少了写try...except...finally的麻烦。"
      ],
      "metadata": {
        "id": "Q4DbZ7Aj0Glu"
      },
      "execution_count": null,
      "outputs": []
    },
    {
      "cell_type": "markdown",
      "source": [
        "**# 记录错误**"
      ],
      "metadata": {
        "id": "Zw8mnEgY1YjT"
      }
    },
    {
      "cell_type": "markdown",
      "source": [
        "\n",
        "\n",
        "*   如果不捕获错误，自然可以让Python解释器来打印出错误堆栈，但程序也被结束了。既然我们能捕获错误，就可以把错误堆栈打印出来，然后分析错误原因，同时，让程序继续执行下去。\n",
        "\n",
        "*   Python内置的logging模块可以非常容易地记录错误信息。通过配置，logging还可以把错误记录到日志文件里，方便事后排查。\n",
        "\n"
      ],
      "metadata": {
        "id": "208UB-SG2LJ0"
      }
    },
    {
      "cell_type": "code",
      "source": [
        "import logging\n",
        "\n",
        "def foo(s):\n",
        "    return 10 / int(s)\n",
        "\n",
        "def bar(s):\n",
        "    return foo(s) * 2\n",
        "\n",
        "def main():\n",
        "    try:\n",
        "        bar('0')\n",
        "    except Exception as e:\n",
        "        logging.exception(e)"
      ],
      "metadata": {
        "id": "k05-iZSM2FXy"
      },
      "execution_count": null,
      "outputs": []
    },
    {
      "cell_type": "code",
      "source": [
        "main()\n",
        "print('END')"
      ],
      "metadata": {
        "colab": {
          "base_uri": "https://localhost:8080/"
        },
        "id": "yfL-qv-j2Suu",
        "outputId": "322c1f46-5407-4750-fe72-791ba4eb9eca"
      },
      "execution_count": null,
      "outputs": [
        {
          "output_type": "stream",
          "name": "stderr",
          "text": [
            "ERROR:root:division by zero\n",
            "Traceback (most recent call last):\n",
            "  File \"<ipython-input-7-8bafe1af53af>\", line 11, in main\n",
            "    bar('0')\n",
            "  File \"<ipython-input-7-8bafe1af53af>\", line 7, in bar\n",
            "    return foo(s) * 2\n",
            "  File \"<ipython-input-7-8bafe1af53af>\", line 4, in foo\n",
            "    return 10 / int(s)\n",
            "ZeroDivisionError: division by zero\n"
          ]
        },
        {
          "output_type": "stream",
          "name": "stdout",
          "text": [
            "END\n"
          ]
        }
      ]
    },
    {
      "cell_type": "markdown",
      "source": [
        "**# 抛出错误**"
      ],
      "metadata": {
        "id": "n0EnRmyt2yx0"
      }
    },
    {
      "cell_type": "markdown",
      "source": [
        "\n",
        "\n",
        "*   因为错误是class，捕获一个错误就是捕获到该class的一个实例。因此，错误并不是凭空产生的，而是有意创建并抛出的。Python的内置函数会抛出很多类型的错误，我们自己编写的函数也可以抛出错误\n",
        "*   如果要抛出错误，首先根据需要，可以定义一个错误的class，选择好继承关系，然后，用raise语句抛出一个错误的实例。\n",
        "*   只有在必要的时候才定义我们自己的错误类型。如果可以选择Python已有的内置的错误类型（比如ValueError，TypeError），尽量使用Python内置的错误类型。"
      ],
      "metadata": {
        "id": "QPATC0oD22w6"
      }
    },
    {
      "cell_type": "code",
      "source": [
        "class FooError(ValueError):\n",
        "    pass\n",
        "\n",
        "def foo(s):\n",
        "    n = int(s)\n",
        "    if n==0:\n",
        "        raise FooError('invalid value: %s' % s)\n",
        "    return 10 / n\n",
        "\n",
        "foo('0')\n",
        "# 执行，可以最后跟踪到我们自己定义的错误"
      ],
      "metadata": {
        "id": "d3wb8TQo3RsX"
      },
      "execution_count": null,
      "outputs": []
    },
    {
      "cell_type": "markdown",
      "source": [
        "\n",
        "\n",
        "*   另一种处理错误的方式(如下所示代码): 在bar()函数中，我们明明已经捕获了错误，但是，打印一个ValueError!后，又把错误通过raise语句抛出去了。\n",
        "\n",
        "*   这种错误处理相当常见。捕获错误目的只是记录一下，便于后续追踪。但是，由于当前函数不知道应该怎么处理该错误，所以，最恰当的方式是继续往上抛，让顶层调用者去处理。好比一个员工处理不了一个问题时，就把问题抛给他的老板，如果他的老板也处理不了，就一直往上抛，最终会抛给CEO去处理。"
      ],
      "metadata": {
        "id": "t8ZTFL7V3cUk"
      }
    },
    {
      "cell_type": "code",
      "source": [
        "def foo(s):\n",
        "    n = int(s)\n",
        "    if n==0:\n",
        "        raise ValueError('invalid value: %s' % s)\n",
        "    return 10 / n\n",
        "\n",
        "def bar():\n",
        "    try:\n",
        "        foo('0')\n",
        "    except ValueError as e:\n",
        "        print('ValueError!')\n",
        "        raise\n",
        "\n",
        "bar()"
      ],
      "metadata": {
        "id": "QzD7nTSx37MJ"
      },
      "execution_count": null,
      "outputs": []
    },
    {
      "cell_type": "markdown",
      "source": [
        "\n",
        "\n",
        "*   raise语句如果不带参数，就会把当前错误原样抛出。\n",
        "*   此外，在except中raise一个Error，还可以把一种类型的错误转化成另一种类型。只要是合理的转换逻辑就可以，但是，决不应该把一个IOError转换成毫不相干的ValueError。\n",
        "\n",
        "\n"
      ],
      "metadata": {
        "id": "7qEIRAwr4ir9"
      }
    },
    {
      "cell_type": "code",
      "source": [
        "try:\n",
        "    10 / 0\n",
        "except ZeroDivisionError:\n",
        "    raise ValueError('input error!')"
      ],
      "metadata": {
        "id": "ZxWSeCe74N3K"
      },
      "execution_count": null,
      "outputs": []
    },
    {
      "cell_type": "markdown",
      "source": [
        "**2. 调试**\n",
        "\n",
        "程序能一次写完并正常运行的概率很小，基本不超过1%。总会有各种各样的bug需要修正。有的bug很简单，看看错误信息就知道，有的bug很复杂，我们需要知道出错时，哪些变量的值是正确的，哪些变量的值是错误的，因此，需要一整套调试程序的手段来修复bug。"
      ],
      "metadata": {
        "id": "5exQ6Jl4KgKE"
      }
    },
    {
      "cell_type": "markdown",
      "source": [
        "**# print()**\n",
        "*   第一种方法简单直接粗暴有效，就是用**print()**把可能有问题的变量打印出来看看。"
      ],
      "metadata": {
        "id": "OffRvvH9OIrJ"
      }
    },
    {
      "cell_type": "code",
      "source": [
        "def foo(s):\n",
        "    n = int(s)\n",
        "    print('>>> n = %d' % n)\n",
        "    return 10 / n\n",
        "\n",
        "def main():\n",
        "    foo('0')\n",
        "\n",
        "main()\n",
        "# 执行后在输出中查找打印的变量值\n",
        "# >>> n = 0\n",
        "# Traceback (most recent call last):\n",
        "#  ...\n",
        "# ZeroDivisionError: integer division or modulo by zero"
      ],
      "metadata": {
        "id": "NmJoavFLLfYZ"
      },
      "execution_count": null,
      "outputs": []
    },
    {
      "cell_type": "markdown",
      "source": [
        "\n",
        "**# assert**\n",
        "*   用print()最大的坏处是将来还得删掉它，想想程序里到处都是print()，运行结果也会包含很多垃圾信息。所以，我们又有第二种方法。\n",
        "\n",
        "*   **断言** —— 凡是用print()来辅助查看的地方，都可以用断言（assert）来替代：\n",
        "\n",
        "\n",
        "\n",
        "\n"
      ],
      "metadata": {
        "id": "q87WVhHHLwhZ"
      }
    },
    {
      "cell_type": "code",
      "source": [
        "def foo(s):\n",
        "    n = int(s)\n",
        "    assert n != 0, 'n is zero!'\n",
        "    return 10 / n\n",
        "\n",
        "def main():\n",
        "    foo('0')\n",
        "\n",
        "# assert的意思是，表达式n != 0应该是True，否则，根据程序运行的逻辑，后面的代码肯定会出错。\n",
        "# 如果断言失败，assert语句本身就会抛出AssertionError:\n",
        "# Traceback (most recent call last):\n",
        "#  ...\n",
        "# AssertionError: n is zero!"
      ],
      "metadata": {
        "id": "qQR2ktV-MU0l"
      },
      "execution_count": null,
      "outputs": []
    },
    {
      "cell_type": "markdown",
      "source": [
        "\n",
        "\n",
        "*   程序中如果到处充斥着assert，和print()相比也好不到哪去。不过，启动Python解释器时可以用-O(字母O)参数来关闭assert。关闭后，你可以把所有的assert语句当成pass来看。\n",
        "\n"
      ],
      "metadata": {
        "id": "af_idEhWMlSe"
      }
    },
    {
      "cell_type": "markdown",
      "source": [
        "\n",
        "**# logging**\n",
        "*   把print()替换为logging是第3种方式，和assert比，logging不会抛出错误，而且可以输出到文件:\n",
        "\n"
      ],
      "metadata": {
        "id": "WjNk7djuMwcS"
      }
    },
    {
      "cell_type": "code",
      "source": [
        "import logging\n",
        "logging.basicConfig(level=logging.INFO)\n",
        "s = '0'\n",
        "n = int(s)\n",
        "logging.info('n = %d' % n)\n",
        "print(10 / n)\n",
        "\n",
        "# INFO:root:n = 0\n",
        "# Traceback (most recent call last):\n",
        "#  File \"err.py\", line 8, in <module>\n",
        "#    print(10 / n)\n",
        "# ZeroDivisionError: division by zero"
      ],
      "metadata": {
        "id": "UfA-wVrINiUN"
      },
      "execution_count": null,
      "outputs": []
    },
    {
      "cell_type": "markdown",
      "source": [
        "\n",
        "\n",
        "*   这就是logging的好处，它允许你指定记录信息的级别，有debug，info，warning，error等几个级别，当我们指定level=INFO时，logging.debug就不起作用了。同理，指定level=WARNING后，debug和info就不起作用了。这样一来，你可以放心地输出不同级别的信息，也不用删除，最后统一控制输出哪个级别的信息。\n",
        "*   logging的另一个好处是通过简单的配置，一条语句可以同时输出到不同的地方，比如console和文件。\n",
        "\n",
        "\n",
        "\n"
      ],
      "metadata": {
        "id": "7LS5_oHMNvL6"
      }
    },
    {
      "cell_type": "markdown",
      "source": [
        "**# pdb**\n",
        "*   第4种方式是启动Python的调试器pdb，让程序以单步方式运行，可以随时查看运行状态。"
      ],
      "metadata": {
        "id": "RGuQndtRN5-R"
      }
    },
    {
      "cell_type": "markdown",
      "source": [
        "**3. 单元测试**\n",
        "\n",
        "如果你听说过“测试驱动开发”（TDD：Test-Driven Development），单元测试就不陌生。\n",
        "\n",
        "单元测试是用来对一个模块、一个函数或者一个类来进行正确性检验的测试工作。\n",
        "\n",
        "比如对函数abs()，我们可以编写出以下几个测试用例：\n",
        "\n",
        "1. 输入正数，比如1、1.2、0.99，期待返回值与输入相同；\n",
        "\n",
        "2. 输入负数，比如-1、-1.2、-0.99，期待返回值与输入相反；\n",
        "\n",
        "3. 输入0，期待返回0；\n",
        "\n",
        "4. 输入非数值类型，比如None、[]、{}，期待抛出TypeError。\n",
        "\n",
        "把上面的测试用例放到一个测试模块里，就是一个完整的单元测试。\n",
        "\n",
        "如果单元测试通过，说明我们测试的这个函数能够正常工作。如果单元测试不通过，要么函数有bug，要么测试条件输入不正确，总之，需要修复使单元测试能够通过。\n",
        "\n",
        "单元测试通过后有什么意义呢？如果我们对abs()函数代码做了修改，只需要再跑一遍单元测试，如果通过，说明我们的修改不会对abs()函数原有的行为造成影响，如果测试不通过，说明我们的修改与原有行为不一致，要么修改代码，要么修改测试。\n",
        "\n",
        "这种以测试为驱动的开发模式最大的好处就是确保一个程序模块的行为符合我们设计的测试用例。在将来修改的时候，可以极大程度地保证该模块行为仍然是正确的。"
      ],
      "metadata": {
        "id": "O_dVOwREPQHx"
      }
    },
    {
      "cell_type": "markdown",
      "source": [
        "*   编写一个Dict类，这个类的行为和dict一致，但是可以通过属性来访问，用起来就像下面这样:\n",
        "\n",
        "\n",
        "\n",
        "```\n",
        ">>> d = Dict(a=1, b=2)\n",
        ">>> d['a']\n",
        "1\n",
        ">>> d.a\n",
        "1\n",
        "```\n"
      ],
      "metadata": {
        "id": "G1Y40uXQPbPw"
      }
    },
    {
      "cell_type": "code",
      "source": [
        "# mydict.py代码如下:\n",
        "class Dict(dict):\n",
        "\n",
        "    def __init__(self, **kw):\n",
        "        super().__init__(**kw)\n",
        "\n",
        "    def __getattr__(self, key):\n",
        "        try:\n",
        "            return self[key]\n",
        "        except KeyError:\n",
        "            raise AttributeError(r\"'Dict' object has no attribute '%s'\" % key)\n",
        "\n",
        "    def __setattr__(self, key, value):\n",
        "        self[key] = value"
      ],
      "metadata": {
        "id": "srScRBJOmGs0"
      },
      "execution_count": 2,
      "outputs": []
    },
    {
      "cell_type": "code",
      "source": [
        "d = Dict(a=1, b=2)\n",
        "d['b']"
      ],
      "metadata": {
        "colab": {
          "base_uri": "https://localhost:8080/"
        },
        "id": "DyQY2vcDpyi8",
        "outputId": "0228fe9a-c1b4-4c87-c9a9-98da459a37e2"
      },
      "execution_count": 4,
      "outputs": [
        {
          "output_type": "execute_result",
          "data": {
            "text/plain": [
              "2"
            ]
          },
          "metadata": {},
          "execution_count": 4
        }
      ]
    },
    {
      "cell_type": "markdown",
      "source": [
        "\n",
        "\n",
        "*   编写单元测试时，我们需要编写一个测试类，从unittest.TestCase继承。\n",
        "*   以test开头的方法就是测试方法，不以test开头的方法不被认为是测试方法，测试的时候不会被执行。\n",
        "\n",
        "\n",
        "*   对每一类测试都需要编写一个test_xxx()方法。由于unittest.TestCase提供了很多内置的条件判断，我们只需要调用这些方法就可以断言输出是否是我们所期望的。最常用的断言就是assertEqual()：\n",
        "    \n",
        "    ```\n",
        "    self.assertEqual(abs(-1), 1) # 断言函数返回的结果与1相等\n",
        "    ```\n",
        "\n",
        "\n",
        "*   另一种重要的断言就是期待抛出指定类型的Error，比如通过d['empty']访问不存在的key时，断言会抛出KeyError：\n",
        "    ```\n",
        "    with self.assertRaises(KeyError):\n",
        "    value = d['empty']\n",
        "    ```\n",
        "*   而通过d.empty访问不存在的key时，我们期待抛出AttributeError：\n",
        "    ```\n",
        "    with self.assertRaises(AttributeError):\n",
        "    value = d.empty\n",
        "    ```\n",
        "\n",
        "\n",
        "\n",
        "\n",
        "\n",
        "\n"
      ],
      "metadata": {
        "id": "9fSWparzm2dE"
      }
    },
    {
      "cell_type": "code",
      "source": [
        "# mydict_test.py代码如下:\n",
        "import unittest\n",
        "\n",
        "class TestDict(unittest.TestCase):\n",
        "\n",
        "    def test_init(self):\n",
        "        d = Dict(a=1, b='test')\n",
        "        self.assertEqual(d.a, 1)\n",
        "        self.assertEqual(d.b, 'test')\n",
        "        self.assertTrue(isinstance(d, dict))\n",
        "\n",
        "    def test_key(self):\n",
        "        d = Dict()\n",
        "        d['key'] = 'value'\n",
        "        self.assertEqual(d.key, 'value')\n",
        "\n",
        "    def test_attr(self):\n",
        "        d = Dict()\n",
        "        d.key = 'value'\n",
        "        self.assertTrue('key' in d)\n",
        "        self.assertEqual(d['key'], 'value')\n",
        "\n",
        "    def test_keyerror(self):\n",
        "        d = Dict()\n",
        "        with self.assertRaises(KeyError):\n",
        "            value = d['empty']\n",
        "\n",
        "    def test_attrerror(self):\n",
        "        d = Dict()\n",
        "        with self.assertRaises(AttributeError):\n",
        "            value = d.empty"
      ],
      "metadata": {
        "id": "BMx4k7AKmHeT"
      },
      "execution_count": null,
      "outputs": []
    },
    {
      "cell_type": "markdown",
      "source": [
        "**# 运行单元测试**\n",
        "一旦编写好单元测试，我们就可以运行单元测试。最简单的运行方式是在mydict_test.py的最后加上两行代码:\n",
        "```\n",
        "if __name__ == '__main__':\n",
        "    unittest.main()\n",
        "```\n",
        "这样就可以把mydict_test.py当做正常的python脚本运行:\n",
        "\n",
        "\n",
        "```\n",
        "$ python mydict_test.py\n",
        "```\n",
        "\n",
        "另一种方法是在命令行通过参数-m unittest直接运行单元测试:\n",
        "\n",
        "```\n",
        "$ python -m unittest mydict_test\n",
        ".....\n",
        "----------------------------------------------------------------------\n",
        "Ran 5 tests in 0.000s\n",
        "\n",
        "OK\n",
        "```\n",
        "这是推荐的做法，因为这样可以一次批量运行很多单元测试，并且，有很多工具可以自动来运行这些单元测试。\n",
        "\n",
        "可以在单元测试中编写两个特殊的setUp()和tearDown()方法。这两个方法会分别在每调用一个测试方法的前后分别被执行。\n",
        "\n",
        "setUp()和tearDown()方法有什么用呢？设想你的测试需要启动一个数据库，这时，就可以在setUp()方法中连接数据库，在tearDown()方法中关闭数据库，这样，不必在每个测试方法中重复相同的代码:\n",
        "\n",
        "\n",
        "\n",
        "```\n",
        "class TestDict(unittest.TestCase):\n",
        "\n",
        "    def setUp(self):\n",
        "        print('setUp...')\n",
        "\n",
        "    def tearDown(self):\n",
        "        print('tearDown...')\n",
        "```\n",
        "\n",
        "\n",
        "\n",
        "\n",
        "\n",
        "\n"
      ],
      "metadata": {
        "id": "vKojFxvsUuxu"
      }
    },
    {
      "cell_type": "markdown",
      "source": [
        "**4. 文档测试**\n",
        "\n",
        "如果你经常阅读Python的官方文档，可以看到很多文档都有示例代码。比如re模块就带了很多示例代码：\n",
        "\n",
        "\n",
        "```\n",
        ">>> import re\n",
        ">>> m = re.search('(?<=abc)def', 'abcdef')\n",
        ">>> m.group(0)\n",
        "'def'\n",
        "```\n",
        "\n",
        "可以把这些示例代码在Python的交互式环境下输入并执行，结果与文档中的示例代码显示的一致。\n",
        "\n",
        "这些代码与其他说明可以写在注释中，然后，由一些工具来自动生成文档。既然这些代码本身就可以粘贴出来直接运行，那么，可不可以自动执行写在注释中的这些代码呢？\n",
        "\n",
        "答案是肯定的。\n",
        "\n",
        "当我们编写注释时，如果写上这样的注释：\n",
        "\n",
        "```\n",
        "def abs(n):\n",
        "    '''\n",
        "    Function to get absolute value of number.\n",
        "    \n",
        "    Example:\n",
        "    \n",
        "    >>> abs(1)\n",
        "    1\n",
        "    >>> abs(-1)\n",
        "    1\n",
        "    >>> abs(0)\n",
        "    0\n",
        "    '''\n",
        "    return n if n >= 0 else (-n)\n",
        "```\n",
        "无疑更明确地告诉函数的调用者该函数的期望输入和输出。\n",
        "\n",
        "并且，Python内置的“文档测试”（doctest）模块可以直接提取注释中的代码并执行测试。\n",
        "\n",
        "doctest严格按照Python交互式命令行的输入和输出来判断测试结果是否正确。只有测试异常的时候，可以用...表示中间一大段烦人的输出。\n",
        "\n",
        "让我们用doctest来测试上次编写的Dict类：\n",
        "\n",
        "\n",
        "\n",
        "```\n",
        "# mydict2.py\n",
        "class Dict(dict):\n",
        "    '''\n",
        "    Simple dict but also support access as x.y style.\n",
        "\n",
        "    >>> d1 = Dict()\n",
        "    >>> d1['x'] = 100\n",
        "    >>> d1.x\n",
        "    100\n",
        "    >>> d1.y = 200\n",
        "    >>> d1['y']\n",
        "    200\n",
        "    >>> d2 = Dict(a=1, b=2, c='3')\n",
        "    >>> d2.c\n",
        "    '3'\n",
        "    >>> d2['empty']\n",
        "    Traceback (most recent call last):\n",
        "        ...\n",
        "    KeyError: 'empty'\n",
        "    >>> d2.empty\n",
        "    Traceback (most recent call last):\n",
        "        ...\n",
        "    AttributeError: 'Dict' object has no attribute 'empty'\n",
        "    '''\n",
        "    def __init__(self, **kw):\n",
        "        super(Dict, self).__init__(**kw)\n",
        "\n",
        "    def __getattr__(self, key):\n",
        "        try:\n",
        "            return self[key]\n",
        "        except KeyError:\n",
        "            raise AttributeError(r\"'Dict' object has no attribute '%s'\" % key)\n",
        "\n",
        "    def __setattr__(self, key, value):\n",
        "        self[key] = value\n",
        "\n",
        "if __name__=='__main__':\n",
        "    import doctest\n",
        "    doctest.testmod()\n",
        "```\n",
        "运行python mydict2.py：\n",
        "\n",
        "```\n",
        "$ python mydict2.py\n",
        "```\n",
        "\n",
        "什么输出也没有。这说明我们编写的doctest运行都是正确的。如果程序有问题，比如把__getattr__()方法注释掉，再运行就会报错。\n",
        "\n",
        "\n",
        "\n"
      ],
      "metadata": {
        "id": "PbUstm7xVha6"
      }
    }
  ]
}